{
  "nbformat": 4,
  "nbformat_minor": 0,
  "metadata": {
    "colab": {
      "name": "Hello World Notebook",
      "provenance": [],
      "authorship_tag": "ABX9TyOtnUiN/EKk+KSRRLGRB9T2",
      "include_colab_link": true
    },
    "kernelspec": {
      "name": "python3",
      "display_name": "Python 3"
    },
    "language_info": {
      "name": "python"
    }
  },
  "cells": [
    {
      "cell_type": "markdown",
      "metadata": {
        "id": "view-in-github",
        "colab_type": "text"
      },
      "source": [
        "<a href=\"https://colab.research.google.com/github/vvictorrr/my-notebooks/blob/main/Hello_World_Notebook.ipynb\" target=\"_parent\"><img src=\"https://colab.research.google.com/assets/colab-badge.svg\" alt=\"Open In Colab\"/></a>"
      ]
    },
    {
      "cell_type": "code",
      "source": [
        "#For Georgetown 2022 College Prep Program\n",
        "print(\"Hello World\")\n",
        "x = 4\n",
        "print(x-2)\n",
        "y=3\n",
        "print(x-y)\n",
        "print(\"2 + 2 =\", x)"
      ],
      "metadata": {
        "colab": {
          "base_uri": "https://localhost:8080/"
        },
        "id": "lQmwr_BEC173",
        "outputId": "3bcdc225-0cff-4fe1-a958-ed95c0a6b112"
      },
      "execution_count": 5,
      "outputs": [
        {
          "output_type": "stream",
          "name": "stdout",
          "text": [
            "Hello World\n",
            "2\n",
            "1\n",
            "2 + 2 = 4\n"
          ]
        }
      ]
    },
    {
      "cell_type": "markdown",
      "source": [
        "# pretty cool text cell\n",
        "+ list 1\n",
        "+ list 2"
      ],
      "metadata": {
        "id": "zK_dQg9GF6U1"
      }
    }
  ]
}