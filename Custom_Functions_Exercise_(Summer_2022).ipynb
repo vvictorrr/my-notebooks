{
  "nbformat": 4,
  "nbformat_minor": 0,
  "metadata": {
    "colab": {
      "name": "Custom Functions Exercise (Summer 2022)",
      "provenance": [],
      "collapsed_sections": [],
      "include_colab_link": true
    },
    "kernelspec": {
      "name": "python3",
      "display_name": "Python 3"
    }
  },
  "cells": [
    {
      "cell_type": "markdown",
      "metadata": {
        "id": "view-in-github",
        "colab_type": "text"
      },
      "source": [
        "<a href=\"https://colab.research.google.com/github/vvictorrr/my-notebooks/blob/main/Custom_Functions_Exercise_(Summer_2022).ipynb\" target=\"_parent\"><img src=\"https://colab.research.google.com/assets/colab-badge.svg\" alt=\"Open In Colab\"/></a>"
      ]
    },
    {
      "cell_type": "markdown",
      "metadata": {
        "id": "m4OgF-WX0Fxo"
      },
      "source": [
        "# References\n",
        "\n",
        "\n"
      ]
    },
    {
      "cell_type": "markdown",
      "metadata": {
        "id": "aedRcX8SYIqi"
      },
      "source": [
        "\n",
        "Please read these notes before attempting this exercise:\n",
        "\n",
        "  + https://docs.python.org/3/tutorial/controlflow.html#defining-functions\n",
        "  + https://docs.python.org/3/tutorial/controlflow.html#default-argument-values\n",
        "  + https://docs.python.org/3/tutorial/controlflow.html#keyword-arguments\n",
        "  + https://www.w3schools.com/python/python_functions.asp\n",
        "\n",
        "Optionally see also:\n",
        "\n",
        "  + https://github.com/prof-rossetti/intro-to-python/blob/master/notes/python/functions.md\n",
        "  + https://github.com/prof-rossetti/intro-to-python/blob/master/notes/python/docstrings.md"
      ]
    },
    {
      "cell_type": "markdown",
      "metadata": {
        "id": "YHt4V6UxY0NF"
      },
      "source": [
        "Example function definition (with or without docstring) and example function invocations:"
      ]
    },
    {
      "cell_type": "code",
      "metadata": {
        "id": "OOEGfT5LYLn6"
      },
      "source": [
        "# FUNCTION DEFINITION\n",
        "\n",
        "\n",
        "def enlarge(n):\n",
        "    return n * 100\n",
        "\n",
        "\n",
        "#def enlarge(n):\n",
        "#    \"\"\"\n",
        "#    Enlarges a given number, returns the number multiplied by 100.\n",
        "#\n",
        "#    Params: n (numeric) a number like 9\n",
        "#\n",
        "#    Example: enlarge(9)\n",
        "#    \"\"\"\n",
        "#    return n * 100\n",
        "\n"
      ],
      "execution_count": null,
      "outputs": []
    },
    {
      "cell_type": "code",
      "metadata": {
        "colab": {
          "base_uri": "https://localhost:8080/"
        },
        "id": "nScl_u0QZDIl",
        "outputId": "f46f121f-d911-4da0-c286-9d4f97d99773"
      },
      "source": [
        "# FUNCTION INVOCATIONS\n",
        "\n",
        "print(enlarge(9))\n",
        "print(enlarge(3))\n",
        "\n",
        "x = 10\n",
        "print(enlarge(x))"
      ],
      "execution_count": null,
      "outputs": [
        {
          "output_type": "stream",
          "name": "stdout",
          "text": [
            "900\n",
            "300\n",
            "1000\n"
          ]
        }
      ]
    },
    {
      "cell_type": "markdown",
      "metadata": {
        "id": "S2WNuBjne_qG"
      },
      "source": [
        "\n",
        "# Instructions\n",
        "\n",
        "\n"
      ]
    },
    {
      "cell_type": "markdown",
      "metadata": {
        "id": "9VcdzHLiOrCt"
      },
      "source": [
        "\n",
        "\n",
        "\n",
        "Make a copy of this notebook so you can edit and save your own version of it. Do the work in your copy of the notebook."
      ]
    },
    {
      "cell_type": "markdown",
      "metadata": {
        "id": "Jjgzk-DvfCty"
      },
      "source": [
        "\n",
        "## Basic Requirements\n",
        "\n",
        "For each of the three challenges below, write a custom function to address the requirements. \n",
        "\n",
        "After writing a function in (and running) the first code cell, you should be able to then run the cell(s) immediately below which use some provided code to use or \"invoke\" the function. If you have defined the functions properly, the invocation cells should just work as-is.\n",
        "\n",
        "## Further Exploration Challenge\n",
        "\n",
        "Ideally also add a [\"docstring\"](https://github.com/prof-rossetti/intro-to-python/blob/master/notes/python/docstrings.md) to each function, to provide more information about the parameters it accepts, and the job it is expected to perform.\n"
      ]
    },
    {
      "cell_type": "markdown",
      "metadata": {
        "id": "mdOQuAFkfHTd"
      },
      "source": [
        "# Challenges"
      ]
    },
    {
      "cell_type": "markdown",
      "metadata": {
        "id": "zgeFDH0CR6cN"
      },
      "source": [
        "## 1) Motivation Function\n",
        "\n",
        "Define a custom function called `motivate()`, the responsibility of which is to print a motivational or inspirational textual message like \"Row harder, you can do it!\". The function doesn't need any parameter inputs or return values. It can display the same message every time."
      ]
    },
    {
      "cell_type": "code",
      "metadata": {
        "id": "ism3HbhJR6Hi",
        "colab": {
          "base_uri": "https://localhost:8080/"
        },
        "outputId": "e2cd4ff4-bc57-4e67-f33d-7fd85ea08c45"
      },
      "source": [
        "# FUNCTION DEFINITION\n",
        "import random\n",
        "def motivate():\n",
        "    quote = random.choice([\"You can do it!\", \"Keep it up!\", \"You've got this!\", \"You're doing great!\"])\n",
        "    print(quote)\n",
        "\n",
        "\n",
        "motivate()\n",
        "# (todo)\n"
      ],
      "execution_count": null,
      "outputs": [
        {
          "output_type": "stream",
          "name": "stdout",
          "text": [
            "You've got this!\n"
          ]
        }
      ]
    },
    {
      "cell_type": "code",
      "metadata": {
        "id": "XWW1iycMR44V",
        "colab": {
          "base_uri": "https://localhost:8080/"
        },
        "outputId": "2de63a47-0a38-47dd-e971-525275f472ef"
      },
      "source": [
        "# FUNCTION INVOCATIONS\n",
        "motivate()\n",
        "motivate()\n",
        "motivate()\n",
        "motivate()\n"
      ],
      "execution_count": 51,
      "outputs": [
        {
          "output_type": "stream",
          "name": "stdout",
          "text": [
            "You've got this!\n",
            "Keep it up!\n",
            "You're doing great!\n",
            "You can do it!\n"
          ]
        }
      ]
    },
    {
      "cell_type": "markdown",
      "metadata": {
        "id": "ElJb0gWG0uRT"
      },
      "source": [
        "\n",
        "## 2) Temperature Conversion Function\n",
        "\n",
        "Define a custom function called `celsius_to_fahrenheit()`, the responsibility of which is to convert a Celsius temperature (e.g. `0`) to a Fahrenheit temperature (e.g. `32`). Inside the function's definition, use a mathematical formula to convert the temperature and return the resulting value.\n"
      ]
    },
    {
      "cell_type": "code",
      "metadata": {
        "id": "Tb5YtYEb0DEg"
      },
      "source": [
        "# FUNCTION DEFINITION\n",
        "def celsius_to_fahrenheit(n):\n",
        "    return n * 1.8 + 32\n",
        "# (todo)"
      ],
      "execution_count": 37,
      "outputs": []
    },
    {
      "cell_type": "code",
      "metadata": {
        "id": "DQKdwjAKOibU",
        "colab": {
          "base_uri": "https://localhost:8080/"
        },
        "outputId": "fc251f3e-240a-4203-ad4d-5c9c3c3d6dbd"
      },
      "source": [
        "# FUNCTION INVOCATIONS\n",
        "\n",
        "print(celsius_to_fahrenheit(0))\n",
        "print(celsius_to_fahrenheit(10))\n",
        "print(celsius_to_fahrenheit(20))\n",
        "print(celsius_to_fahrenheit(30))\n",
        "print(celsius_to_fahrenheit(40))\n",
        "\n",
        "print(\"---------\")\n",
        "\n",
        "c = input(\"PLEASE CHOOSE A CELSIUS TEMP: \")\n",
        "print(\"THE CELSIUS TEMP IS:\", c, \"DEGREES\")\n",
        "c = float(c)\n",
        "f = celsius_to_fahrenheit(c)\n",
        "print(\"THE FAHRENHEIT EQUIVALENT IS:\", f, \"DEGREES\")\n"
      ],
      "execution_count": 52,
      "outputs": [
        {
          "output_type": "stream",
          "name": "stdout",
          "text": [
            "32.0\n",
            "50.0\n",
            "68.0\n",
            "86.0\n",
            "104.0\n",
            "---------\n",
            "PLEASE CHOOSE A CELSIUS TEMP: 0\n",
            "THE CELSIUS TEMP IS: 0 DEGREES\n",
            "THE FAHRENHEIT EQUIVALENT IS: 32.0 DEGREES\n"
          ]
        }
      ]
    },
    {
      "cell_type": "markdown",
      "metadata": {
        "id": "Xjb98FD21VIj"
      },
      "source": [
        "\n",
        "## 3) Letter Grade Conversion Function\n",
        "\n",
        "Define a custom function called `number_to_letter_grade()`, the responsibility of which is to convert a numeric grade (e.g. `87.5`) to a corresponding letter grade (e.g. `B+`). Inside the function's definition, use your own custom algorithm to convert the grade and return the resulting value.\n"
      ]
    },
    {
      "cell_type": "code",
      "metadata": {
        "id": "-PXqEqQMTDTJ"
      },
      "source": [
        "# FUNCTION DEFINITION\n",
        "\n",
        "        "
      ],
      "execution_count": null,
      "outputs": []
    },
    {
      "cell_type": "code",
      "metadata": {
        "id": "7VNEWlSBS9I0",
        "colab": {
          "base_uri": "https://localhost:8080/"
        },
        "outputId": "9c451777-389f-4813-d0ce-7cdb25df943d"
      },
      "source": [
        "\n",
        "# FUNCTION INVOCATIONS\n",
        "def number_to_letter_grade(n):\n",
        "    if n >= 98:\n",
        "        return \"A+\"\n",
        "    elif n < 98 and n >= 92:\n",
        "        return \"A\"\n",
        "    elif n < 92 and n >= 90:\n",
        "        return \"A-\"\n",
        "    elif n < 90 and n >= 88:\n",
        "        return \"B+\"\n",
        "    elif n < 88 and n >= 82:\n",
        "        return \"B\"\n",
        "    elif n < 82 and n >= 80:\n",
        "        return \"B-\"\n",
        "    elif n < 80 and n >= 78:\n",
        "        return \"C+\"\n",
        "    elif n < 78 and n >= 72:\n",
        "        return \"C\"\n",
        "    elif n < 72 and n >= 70:\n",
        "        return \"C-\"\n",
        "    elif n < 70 and n >= 65:\n",
        "        return \"D\"\n",
        "    elif n < 65 and n >= 0:\n",
        "        return \"F\"\n",
        "    else:\n",
        "        return \"invalid input\"\n",
        "#there was an issue with defining in the other code block\n",
        "print(number_to_letter_grade(100))\n",
        "print(number_to_letter_grade(95))\n",
        "print(number_to_letter_grade(85))\n",
        "print(number_to_letter_grade(75))\n",
        "print(number_to_letter_grade(50))\n",
        "number_to_letter_grade(95)\n",
        "print(\"------------\")\n",
        "\n",
        "score = 87.5\n",
        "print(\"THE NUMERIC SCORE IS:\", score)\n",
        "grade = number_to_letter_grade(score)\n",
        "print(\"THE LETTER-GRADE EQUIVALENT IS:\", grade)"
      ],
      "execution_count": 64,
      "outputs": [
        {
          "output_type": "stream",
          "name": "stdout",
          "text": [
            "A+\n",
            "A\n",
            "B\n",
            "C\n",
            "F\n",
            "------------\n",
            "THE NUMERIC SCORE IS: 87.5\n",
            "THE LETTER-GRADE EQUIVALENT IS: B\n"
          ]
        }
      ]
    },
    {
      "cell_type": "markdown",
      "source": [
        "\n",
        "## 4) Your Own Function\n",
        "\n",
        "Define your own function that does something interesting. The function should accept one or more parameters.\n",
        "\n",
        "Invoke your function a few times, using different parameter values.\n"
      ],
      "metadata": {
        "id": "vDbiG6fcG8XQ"
      }
    },
    {
      "cell_type": "code",
      "source": [
        "# FUNCTION DEFINITION\n",
        "# this function should be able to take your birthday and return your zodiac sign\n",
        "def zodiac(month, day):\n",
        "    month = month.lower() #eliminates capitalization error\n",
        "    if month in [\"january\", \"february\", \"march\", \"april\", \"may\", \"june\", \"july\", \"august\", \"september\", \"october\", \"november\", \"december\"]:\n",
        "        if month == \"january\":\n",
        "            x = 0\n",
        "        elif month == \"february\":\n",
        "            x = 31\n",
        "        elif month == \"march\":\n",
        "            x = 59\n",
        "        elif month == \"april\":\n",
        "            x = 90\n",
        "        elif month == \"may\":\n",
        "            x = 120\n",
        "        elif month == \"june\":\n",
        "            x = 151\n",
        "        elif month == \"july\":\n",
        "            x = 181\n",
        "        elif month == \"august\":\n",
        "            x = 212\n",
        "        elif month == \"september\":\n",
        "            x = 243\n",
        "        elif month == \"october\":\n",
        "            x = 273\n",
        "        elif month == \"november\":\n",
        "            x = 304\n",
        "        elif month == \"december\":\n",
        "            x = 334\n",
        "        bday = x + day #gets the exact day of the year you were born\n",
        "        if bday >= 20 and bday <= 49:\n",
        "            return \"Aquarius\"\n",
        "        elif bday >= 50 and bday <= 79:\n",
        "            return \"Pisces\"\n",
        "        elif bday >= 80 and bday <= 109:\n",
        "            return \"Aries\"\n",
        "        elif bday >= 110 and bday <= 140:\n",
        "            return \"Taurus\"\n",
        "        elif bday >= 141 and bday <= 171:\n",
        "            return \"Gemini\"\n",
        "        elif bday >= 172 and bday <= 203:\n",
        "            return \"Cancer\"\n",
        "        elif bday >= 204 and bday <= 234:\n",
        "            return \"Leo\"\n",
        "        elif bday >= 235 and bday <= 265:\n",
        "            return \"Virgo\"\n",
        "        elif bday >= 266 and bday <= 295:\n",
        "            return \"Libra\"\n",
        "        elif bday >= 296 and bday <= 325:\n",
        "            return \"Scorpio\"\n",
        "        elif bday >= 326 and bday <= 355:\n",
        "            return \"Sagittaurius\"\n",
        "        elif bday >= 356 and bday <= 365 or bday >= 0 and bday <= 19:\n",
        "            return \"Capricorn\"\n",
        "        else:\n",
        "            return \"invalid input\"\n",
        "    else:\n",
        "        return \"invalid input\"\n",
        "\n",
        "\n"
      ],
      "metadata": {
        "id": "jynyQvPiHN3O"
      },
      "execution_count": 78,
      "outputs": []
    },
    {
      "cell_type": "code",
      "source": [
        "# FUNCTION INVOCATIONS\n",
        "print(zodiac(\"FEBRUARY\", 26))\n",
        "print(zodiac(\"AprIL\", 21))\n",
        "print(zodiac(\"derfd\", 3))\n",
        "print(zodiac(\"december\", 60))\n",
        "\n",
        "birthmonth = input(\"What is your birth month? \")\n",
        "birthday = input(\"On what day of the month were you born? \")\n",
        "birthday = int(birthday)\n",
        "print(\"-----------\")\n",
        "print(zodiac(birthmonth, birthday))\n"
      ],
      "metadata": {
        "id": "ozaVBgUfHOKJ",
        "colab": {
          "base_uri": "https://localhost:8080/"
        },
        "outputId": "ec61968e-0fa8-472f-b6fe-5f868a5b60b9"
      },
      "execution_count": 79,
      "outputs": [
        {
          "output_type": "stream",
          "name": "stdout",
          "text": [
            "Pisces\n",
            "Taurus\n",
            "invalid input\n",
            "invalid input\n",
            "What is your birth month? october\n",
            "On what day of the month were you born? 19\n",
            "-----------\n",
            "Libra\n"
          ]
        }
      ]
    }
  ]
}